{
 "cells": [
  {
   "cell_type": "code",
   "execution_count": 2,
   "id": "e4242e7c",
   "metadata": {},
   "outputs": [],
   "source": [
    "import cv2 as cv\n",
    "import os\n",
    "import uuid\n",
    "import time"
   ]
  },
  {
   "cell_type": "code",
   "execution_count": 3,
   "id": "bee7192c",
   "metadata": {},
   "outputs": [],
   "source": [
    "images_path = \"Tensorflow\\workspace\\images\\collected_images\""
   ]
  },
  {
   "cell_type": "code",
   "execution_count": 4,
   "id": "68bc6c4c",
   "metadata": {},
   "outputs": [],
   "source": [
    "labels=[\"hello\",\"thanks\",\"iloveyou\",\"yes\",\"no\"]\n",
    "number_imgs=10"
   ]
  },
  {
   "cell_type": "code",
   "execution_count": 5,
   "id": "e795433b",
   "metadata": {},
   "outputs": [
    {
     "name": "stderr",
     "output_type": "stream",
     "text": [
      "The system cannot find the path specified.\n"
     ]
    },
    {
     "name": "stdout",
     "output_type": "stream",
     "text": [
      "collecting images for hello\n",
      "collecting image 0\n",
      "collecting image 1\n",
      "collecting image 2\n",
      "collecting image 3\n",
      "collecting image 4\n",
      "collecting image 5\n",
      "collecting image 6\n",
      "collecting image 7\n",
      "collecting image 8\n",
      "collecting image 9\n"
     ]
    },
    {
     "name": "stderr",
     "output_type": "stream",
     "text": [
      "The system cannot find the path specified.\n"
     ]
    },
    {
     "name": "stdout",
     "output_type": "stream",
     "text": [
      "collecting images for thanks\n",
      "collecting image 0\n",
      "collecting image 1\n",
      "collecting image 2\n",
      "collecting image 3\n",
      "collecting image 4\n",
      "collecting image 5\n",
      "collecting image 6\n",
      "collecting image 7\n",
      "collecting image 8\n",
      "collecting image 9\n"
     ]
    },
    {
     "name": "stderr",
     "output_type": "stream",
     "text": [
      "The system cannot find the path specified.\n"
     ]
    },
    {
     "name": "stdout",
     "output_type": "stream",
     "text": [
      "collecting images for iloveyou\n",
      "collecting image 0\n",
      "collecting image 1\n",
      "collecting image 2\n",
      "collecting image 3\n",
      "collecting image 4\n",
      "collecting image 5\n",
      "collecting image 6\n",
      "collecting image 7\n",
      "collecting image 8\n",
      "collecting image 9\n"
     ]
    },
    {
     "name": "stderr",
     "output_type": "stream",
     "text": [
      "The system cannot find the path specified.\n"
     ]
    },
    {
     "name": "stdout",
     "output_type": "stream",
     "text": [
      "collecting images for yes\n",
      "collecting image 0\n",
      "collecting image 1\n",
      "collecting image 2\n",
      "collecting image 3\n",
      "collecting image 4\n",
      "collecting image 5\n",
      "collecting image 6\n",
      "collecting image 7\n",
      "collecting image 8\n",
      "collecting image 9\n"
     ]
    },
    {
     "name": "stderr",
     "output_type": "stream",
     "text": [
      "The system cannot find the path specified.\n"
     ]
    },
    {
     "name": "stdout",
     "output_type": "stream",
     "text": [
      "collecting images for no\n",
      "collecting image 0\n",
      "collecting image 1\n",
      "collecting image 2\n",
      "collecting image 3\n",
      "collecting image 4\n",
      "collecting image 5\n",
      "collecting image 6\n",
      "collecting image 7\n",
      "collecting image 8\n",
      "collecting image 9\n"
     ]
    }
   ],
   "source": [
    "for label in labels:\n",
    "    !mkdir{\"Tensorflow\\workspace\\images\\collected_images\\\\\"+label}\n",
    "    cap=cv.VideoCapture(0)\n",
    "    print(\"collecting images for {}\".format(label))\n",
    "    time.sleep(5)\n",
    "    for imgnum in range(10):\n",
    "        print(\"collecting image {}\".format(imgnum))\n",
    "        ret,frame = cap.read()\n",
    "        imgname =os.path.join(images_path,label,label+\"-\"+\"{}.jpg\".format(str(uuid.uuid1())))\n",
    "        cv.imwrite(imgname,frame)\n",
    "        cv.imshow(\"frame\",frame)\n",
    "        time.sleep(3)\n",
    "        \n",
    "        if cv.waitKey(1) and 0xff == ord('q'):\n",
    "            break\n",
    "    cap.release()\n",
    "        "
   ]
  },
  {
   "cell_type": "code",
   "execution_count": null,
   "id": "db439eb9",
   "metadata": {},
   "outputs": [],
   "source": []
  }
 ],
 "metadata": {
  "kernelspec": {
   "display_name": "Python 3 (ipykernel)",
   "language": "python",
   "name": "python3"
  },
  "language_info": {
   "codemirror_mode": {
    "name": "ipython",
    "version": 3
   },
   "file_extension": ".py",
   "mimetype": "text/x-python",
   "name": "python",
   "nbconvert_exporter": "python",
   "pygments_lexer": "ipython3",
   "version": "3.9.12"
  }
 },
 "nbformat": 4,
 "nbformat_minor": 5
}
