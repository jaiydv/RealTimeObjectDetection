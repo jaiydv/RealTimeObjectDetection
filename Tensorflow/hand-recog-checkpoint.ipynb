{
 "cells": [
  {
   "cell_type": "code",
   "execution_count": 34,
   "id": "29356981",
   "metadata": {},
   "outputs": [],
   "source": [
    "import cv2 as cv\n",
    "import os\n",
    "import uuid\n",
    "import time"
   ]
  },
  {
   "cell_type": "code",
   "execution_count": 35,
   "id": "f72a5b6e",
   "metadata": {},
   "outputs": [],
   "source": [
    "images_path = \"workspace\\images\\collected_images\""
   ]
  },
  {
   "cell_type": "code",
   "execution_count": 36,
   "id": "b8162f9d",
   "metadata": {},
   "outputs": [],
   "source": [
    "labels=[\"hello\",\"thanks\",\"iloveyou\",\"yes\",\"no\"]\n",
    "number_imgs=10"
   ]
  },
  {
   "cell_type": "code",
   "execution_count": 37,
   "id": "325cabe3",
   "metadata": {},
   "outputs": [
    {
     "name": "stderr",
     "output_type": "stream",
     "text": [
      "A subdirectory or file workspace\\images\\collected_images\\hello already exists.\n"
     ]
    },
    {
     "name": "stdout",
     "output_type": "stream",
     "text": [
      "collecting images for hello\n",
      "collecting image 0\n",
      "collecting image 1\n",
      "collecting image 2\n",
      "collecting image 3\n",
      "collecting image 4\n",
      "collecting image 5\n",
      "collecting image 6\n",
      "collecting image 7\n",
      "collecting image 8\n",
      "collecting image 9\n"
     ]
    },
    {
     "name": "stderr",
     "output_type": "stream",
     "text": [
      "A subdirectory or file workspace\\images\\collected_images\\thanks already exists.\n"
     ]
    },
    {
     "name": "stdout",
     "output_type": "stream",
     "text": [
      "collecting images for thanks\n",
      "collecting image 0\n",
      "collecting image 1\n",
      "collecting image 2\n",
      "collecting image 3\n",
      "collecting image 4\n",
      "collecting image 5\n",
      "collecting image 6\n",
      "collecting image 7\n",
      "collecting image 8\n",
      "collecting image 9\n",
      "collecting images for iloveyou\n",
      "collecting image 0\n",
      "collecting image 1\n",
      "collecting image 2\n",
      "collecting image 3\n",
      "collecting image 4\n",
      "collecting image 5\n",
      "collecting image 6\n",
      "collecting image 7\n",
      "collecting image 8\n",
      "collecting image 9\n",
      "collecting images for yes\n",
      "collecting image 0\n",
      "collecting image 1\n",
      "collecting image 2\n",
      "collecting image 3\n",
      "collecting image 4\n",
      "collecting image 5\n",
      "collecting image 6\n",
      "collecting image 7\n",
      "collecting image 8\n",
      "collecting image 9\n",
      "collecting images for no\n",
      "collecting image 0\n",
      "collecting image 1\n",
      "collecting image 2\n",
      "collecting image 3\n",
      "collecting image 4\n",
      "collecting image 5\n",
      "collecting image 6\n",
      "collecting image 7\n",
      "collecting image 8\n",
      "collecting image 9\n"
     ]
    }
   ],
   "source": [
    "for label in labels:\n",
    "    !mkdir {'workspace\\images\\collected_images\\\\'+label}\n",
    "    cap=cv.VideoCapture(0)\n",
    "    print(\"collecting images for {}\".format(label))\n",
    "    time.sleep(5)\n",
    "    for imgnum in range(10):\n",
    "        print(\"collecting image {}\".format(imgnum))\n",
    "        ret,frame = cap.read()\n",
    "        imgname =os.path.join(images_path,label,label+\".\"+\"{}.jpg\".format(str(uuid.uuid1())))\n",
    "        cv.imwrite(imgname,frame)\n",
    "        cv.imshow(\"frame\",frame)\n",
    "        time.sleep(3)\n",
    "        \n",
    "        if cv.waitKey(1) and 0xff == ord('q'):\n",
    "            break\n",
    "    cap.release()   "
   ]
  },
  {
   "cell_type": "code",
   "execution_count": null,
   "id": "98c3edf2",
   "metadata": {},
   "outputs": [],
   "source": []
  }
 ],
 "metadata": {
  "interpreter": {
   "hash": "5b90849789a8d66df3bcaeacfc4f5a1a9d676781c385676d7dbeee8a811043e0"
  },
  "kernelspec": {
   "display_name": "Python 3.9.12 64-bit (windows store)",
   "language": "python",
   "name": "python3"
  },
  "language_info": {
   "codemirror_mode": {
    "name": "ipython",
    "version": 3
   },
   "file_extension": ".py",
   "mimetype": "text/x-python",
   "name": "python",
   "nbconvert_exporter": "python",
   "pygments_lexer": "ipython3",
   "version": "3.9.12"
  }
 },
 "nbformat": 4,
 "nbformat_minor": 5
}
